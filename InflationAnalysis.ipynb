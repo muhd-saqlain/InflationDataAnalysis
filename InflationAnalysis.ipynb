{
  "metadata": {
    "kernelspec": {
      "name": "xpython",
      "display_name": "Python 3.13 (XPython)",
      "language": "python"
    },
    "language_info": {
      "file_extension": ".py",
      "mimetype": "text/x-python",
      "name": "python",
      "version": "3.13.1"
    }
  },
  "nbformat_minor": 5,
  "nbformat": 4,
  "cells": [
    {
      "id": "9bea9f5d-cc55-4c18-b675-409787aa5319",
      "cell_type": "code",
      "source": "#Inflation Data Analysis\n\n# Data imports & config\n!pip install wbgapi\nimport wbgapi as wb\nimport pandas as pd\nimport numpy as np\nimport matplotlib.pyplot as plt\nimport seaborn as sns\nimport os\n\n%matplotlib inline\nsns.set(style=\"darkgrid\")\nplt.rcParams['figure.figsize'] = (12,6)\n\n# create outputs folder\nos.makedirs(\"../outputs\", exist_ok=True)\n",
      "metadata": {
        "trusted": true
      },
      "outputs": [
        {
          "ename": "<class 'OSError'>",
          "evalue": "Not available",
          "traceback": [
            "\u001b[31m---------------------------------------------------------------------------\u001b[39m",
            "\u001b[31mOSError\u001b[39m                                   Traceback (most recent call last)",
            "\u001b[36mCell\u001b[39m\u001b[36m \u001b[39m\u001b[32mIn[5]\u001b[39m\u001b[32m, line 2\u001b[39m\n\u001b[32m      1\u001b[39m \u001b[38;5;66;03m# Data imports & config\u001b[39;00m\n\u001b[32m----> \u001b[39m\u001b[32m2\u001b[39m \u001b[43mget_ipython\u001b[49m\u001b[43m(\u001b[49m\u001b[43m)\u001b[49m\u001b[43m.\u001b[49m\u001b[43msystem\u001b[49m\u001b[43m(\u001b[49m\u001b[33;43m'\u001b[39;49m\u001b[33;43mpip install wbgapi\u001b[39;49m\u001b[33;43m'\u001b[39;49m\u001b[43m)\u001b[49m\n\u001b[32m      3\u001b[39m \u001b[38;5;28;01mimport\u001b[39;00m\u001b[38;5;250m \u001b[39m\u001b[34;01mwbgapi\u001b[39;00m\u001b[38;5;250m \u001b[39m\u001b[38;5;28;01mas\u001b[39;00m\u001b[38;5;250m \u001b[39m\u001b[34;01mwb\u001b[39;00m\n\u001b[32m      4\u001b[39m \u001b[38;5;28;01mimport\u001b[39;00m\u001b[38;5;250m \u001b[39m\u001b[34;01mpandas\u001b[39;00m\u001b[38;5;250m \u001b[39m\u001b[38;5;28;01mas\u001b[39;00m\u001b[38;5;250m \u001b[39m\u001b[34;01mpd\u001b[39;00m\n",
            "\u001b[36mFile \u001b[39m\u001b[32m/lib/python3.13/site-packages/IPython/core/interactiveshell.py:2627\u001b[39m, in \u001b[36mInteractiveShell.system_piped\u001b[39m\u001b[34m(self, cmd)\u001b[39m\n\u001b[32m   2622\u001b[39m     \u001b[38;5;28;01mraise\u001b[39;00m \u001b[38;5;167;01mOSError\u001b[39;00m(\u001b[33m\"\u001b[39m\u001b[33mBackground processes not supported.\u001b[39m\u001b[33m\"\u001b[39m)\n\u001b[32m   2624\u001b[39m \u001b[38;5;66;03m# we explicitly do NOT return the subprocess status code, because\u001b[39;00m\n\u001b[32m   2625\u001b[39m \u001b[38;5;66;03m# a non-None value would trigger :func:`sys.displayhook` calls.\u001b[39;00m\n\u001b[32m   2626\u001b[39m \u001b[38;5;66;03m# Instead, we store the exit_code in user_ns.\u001b[39;00m\n\u001b[32m-> \u001b[39m\u001b[32m2627\u001b[39m \u001b[38;5;28mself\u001b[39m.user_ns[\u001b[33m'\u001b[39m\u001b[33m_exit_code\u001b[39m\u001b[33m'\u001b[39m] = \u001b[43msystem\u001b[49m\u001b[43m(\u001b[49m\u001b[38;5;28;43mself\u001b[39;49m\u001b[43m.\u001b[49m\u001b[43mvar_expand\u001b[49m\u001b[43m(\u001b[49m\u001b[43mcmd\u001b[49m\u001b[43m,\u001b[49m\u001b[43m \u001b[49m\u001b[43mdepth\u001b[49m\u001b[43m=\u001b[49m\u001b[32;43m1\u001b[39;49m\u001b[43m)\u001b[49m\u001b[43m)\u001b[49m\n",
            "\u001b[36mFile \u001b[39m\u001b[32m/lib/python3.13/site-packages/IPython/utils/_process_emscripten.py:10\u001b[39m, in \u001b[36msystem\u001b[39m\u001b[34m(cmd)\u001b[39m\n\u001b[32m      9\u001b[39m \u001b[38;5;28;01mdef\u001b[39;00m\u001b[38;5;250m \u001b[39m\u001b[34msystem\u001b[39m(cmd):\n\u001b[32m---> \u001b[39m\u001b[32m10\u001b[39m     \u001b[38;5;28;01mraise\u001b[39;00m \u001b[38;5;167;01mOSError\u001b[39;00m(\u001b[33m\"\u001b[39m\u001b[33mNot available\u001b[39m\u001b[33m\"\u001b[39m)\n",
            "\u001b[31mOSError\u001b[39m: Not available"
          ],
          "output_type": "error"
        }
      ],
      "execution_count": 5
    },
    {
      "id": "fde3ca22-e607-4cc7-9f51-e0205c6fb442",
      "cell_type": "code",
      "source": "# Fetch data from World Bank using wbgapi\nindicator = 'FP.CPI.TOTL.ZG'   # Inflation (annual %)\ncountries = ['USA', 'CHN', 'PAK']   # World Bank country codes\n\n# Fetch yearly data for 1990-2024 (or latest available)\ndf_wb = wb.data.DataFrame(indicator, countries, time=range(1990, 2025))\n# dataframe comes as MultiIndex columns - simplify:\ndf_wb = df_wb.T\ndf_wb.columns = [c[1] for c in df_wb.columns]  # rename columns to country codes\ndf_wb.index = df_wb.index.astype(int)  # years as ints\ndf_wb = df_wb.sort_index()\ndf_wb.head()\n",
      "metadata": {
        "trusted": true
      },
      "outputs": [],
      "execution_count": null
    },
    {
      "id": "976cf9f3-0ef6-49e8-9487-9d1b20f9f487",
      "cell_type": "code",
      "source": "#cleaning & preview\ndf = df_wb.copy()\n# Rename columns to readable names\ndf.columns = ['United States', 'China', 'Pakistan']\n\n# Check missing data\nprint(\"Shape:\", df.shape)\nprint(\"Missing values by country:\\n\", df.isna().sum())\n\n# Forward/backfill small gaps if desired (optional)\ndf = df.fillna(method='ffill').fillna(method='bfill')\n\ndf.tail()\n",
      "metadata": {
        "trusted": true
      },
      "outputs": [],
      "execution_count": null
    },
    {
      "id": "53fbccd4-b329-484a-92dc-07a9e83eb028",
      "cell_type": "code",
      "source": "# Line chart\nax = df.plot(title=\"Inflation (Annual %) — USA, China, Pakistan (1990–2024)\")\nax.set_xlabel(\"Year\")\nax.set_ylabel(\"Inflation (annual %)\")\nplt.tight_layout()\nplt.savefig(\"../outputs/inflation_trends_line.png\", dpi=150)\nplt.show()",
      "metadata": {
        "trusted": true
      },
      "outputs": [],
      "execution_count": null
    },
    {
      "id": "a75dd475-4fc3-4b16-85c2-c2931e59e8d2",
      "cell_type": "code",
      "source": "# Rolling mean & volatility\nrolling_mean = df.rolling(window=3).mean()\nrolling_std = df.rolling(window=3).std()\n\nfig, ax = plt.subplots(2,1, figsize=(12,10), sharex=True)\nrolling_mean.plot(ax=ax[0], title=\"3-Year Rolling Mean of Inflation\")\nax[0].set_ylabel(\"Inflation (%)\")\n\nrolling_std.plot(ax=ax[1], title=\"3-Year Rolling Std Dev (Volatility) of Inflation\")\nax[1].set_ylabel(\"Std Dev (%)\")\n\nplt.tight_layout()\nplt.savefig(\"../outputs/rolling_stats.png\", dpi=150)\nplt.show()\n",
      "metadata": {
        "trusted": true
      },
      "outputs": [
        {
          "ename": "<class 'NameError'>",
          "evalue": "name 'df' is not defined",
          "traceback": [
            "\u001b[31m---------------------------------------------------------------------------\u001b[39m",
            "\u001b[31mNameError\u001b[39m                                 Traceback (most recent call last)",
            "\u001b[36mCell\u001b[39m\u001b[36m \u001b[39m\u001b[32mIn[6]\u001b[39m\u001b[32m, line 2\u001b[39m\n\u001b[32m      1\u001b[39m \u001b[38;5;66;03m# Rolling mean & volatility\u001b[39;00m\n\u001b[32m----> \u001b[39m\u001b[32m2\u001b[39m rolling_mean = \u001b[43mdf\u001b[49m.rolling(window=\u001b[32m3\u001b[39m).mean()\n\u001b[32m      3\u001b[39m rolling_std = df.rolling(window=\u001b[32m3\u001b[39m).std()\n\u001b[32m      5\u001b[39m fig, ax = plt.subplots(\u001b[32m2\u001b[39m,\u001b[32m1\u001b[39m, figsize=(\u001b[32m12\u001b[39m,\u001b[32m10\u001b[39m), sharex=\u001b[38;5;28;01mTrue\u001b[39;00m)\n",
            "\u001b[31mNameError\u001b[39m: name 'df' is not defined"
          ],
          "output_type": "error"
        }
      ],
      "execution_count": 6
    },
    {
      "id": "66221722-6ac7-4495-9026-831c6fc82918",
      "cell_type": "code",
      "source": "# Average inflation bar chart\navg_inflation = df.mean()\nax = avg_inflation.sort_values(ascending=False).plot(kind='bar', title=\"Average Inflation (1990–2024)\")\nax.set_ylabel(\"Average annual inflation (%)\")\nplt.tight_layout()\nplt.savefig(\"../outputs/avg_inflation_bar.png\", dpi=150)\nplt.show()\n",
      "metadata": {
        "trusted": true
      },
      "outputs": [],
      "execution_count": null
    },
    {
      "id": "1671529c-8ab8-4938-9c63-89e2b76f25a5",
      "cell_type": "code",
      "source": "# heatmap of year-to-year inflation\nplt.figure(figsize=(10,12))\nsns.heatmap(df.T, annot=False, cmap=\"coolwarm\", cbar_kws={'label': 'Inflation (%)'})\nplt.title(\"Inflation heatmap (country rows, year columns)\")\nplt.xlabel(\"Year\")\nplt.ylabel(\"Country\")\nplt.tight_layout()\nplt.savefig(\"../outputs/inflation_heatmap.png\", dpi=150)\nplt.show()",
      "metadata": {
        "trusted": true
      },
      "outputs": [],
      "execution_count": null
    },
    {
      "id": "7c34336d-ed38-4e6f-881f-a51da19275d8",
      "cell_type": "code",
      "source": "# Annotate events\nfig, ax = plt.subplots(figsize=(12,6))\ndf.plot(ax=ax)\nax.axvline(2008, color='gray', linestyle='--', alpha=0.6)\nax.text(2008+0.2, ax.get_ylim()[1]*0.9, '2008 Crisis', rotation=90)\nax.axvline(2020, color='gray', linestyle='--', alpha=0.6)\nax.text(2020+0.2, ax.get_ylim()[1]*0.9, '2020 COVID', rotation=90)\nplt.title(\"Inflation trends with major events annotated\")\nplt.tight_layout()\nplt.savefig(\"../outputs/inflation_events.png\", dpi=150)\nplt.show()\n",
      "metadata": {
        "trusted": true
      },
      "outputs": [],
      "execution_count": null
    },
    {
      "id": "5a694503-3641-48a3-b72a-4226cd872490",
      "cell_type": "code",
      "source": "# Summary stats and export\nsummary = df.describe().T\nsummary['cv'] = summary['std'] / summary['mean']  # coefficient of variation\ndisplay(summary)\n\n# Save summary and cleaned data to CSV\ndf.to_csv(\"../data/inflation_wb_1990_2024.csv\")\nsummary.to_csv(\"../outputs/inflation_summary_stats.csv\")\n",
      "metadata": {
        "trusted": true
      },
      "outputs": [],
      "execution_count": null
    }
  ]
}